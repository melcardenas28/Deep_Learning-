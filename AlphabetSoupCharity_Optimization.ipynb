{
 "cells": [
  {
   "cell_type": "markdown",
   "metadata": {},
   "source": [
    "## Preprocessing"
   ]
  },
  {
   "cell_type": "code",
   "execution_count": 2,
   "metadata": {},
   "outputs": [
    {
     "data": {
      "text/html": "<div>\n<style scoped>\n    .dataframe tbody tr th:only-of-type {\n        vertical-align: middle;\n    }\n\n    .dataframe tbody tr th {\n        vertical-align: top;\n    }\n\n    .dataframe thead th {\n        text-align: right;\n    }\n</style>\n<table border=\"1\" class=\"dataframe\">\n  <thead>\n    <tr style=\"text-align: right;\">\n      <th></th>\n      <th>EIN</th>\n      <th>NAME</th>\n      <th>APPLICATION_TYPE</th>\n      <th>AFFILIATION</th>\n      <th>CLASSIFICATION</th>\n      <th>USE_CASE</th>\n      <th>ORGANIZATION</th>\n      <th>STATUS</th>\n      <th>INCOME_AMT</th>\n      <th>SPECIAL_CONSIDERATIONS</th>\n      <th>ASK_AMT</th>\n      <th>IS_SUCCESSFUL</th>\n    </tr>\n  </thead>\n  <tbody>\n    <tr>\n      <th>0</th>\n      <td>10520599</td>\n      <td>BLUE KNIGHTS MOTORCYCLE CLUB</td>\n      <td>T10</td>\n      <td>Independent</td>\n      <td>C1000</td>\n      <td>ProductDev</td>\n      <td>Association</td>\n      <td>1</td>\n      <td>0</td>\n      <td>N</td>\n      <td>5000</td>\n      <td>1</td>\n    </tr>\n    <tr>\n      <th>1</th>\n      <td>10531628</td>\n      <td>AMERICAN CHESAPEAKE CLUB CHARITABLE TR</td>\n      <td>T3</td>\n      <td>Independent</td>\n      <td>C2000</td>\n      <td>Preservation</td>\n      <td>Co-operative</td>\n      <td>1</td>\n      <td>1-9999</td>\n      <td>N</td>\n      <td>108590</td>\n      <td>1</td>\n    </tr>\n    <tr>\n      <th>2</th>\n      <td>10547893</td>\n      <td>ST CLOUD PROFESSIONAL FIREFIGHTERS</td>\n      <td>T5</td>\n      <td>CompanySponsored</td>\n      <td>C3000</td>\n      <td>ProductDev</td>\n      <td>Association</td>\n      <td>1</td>\n      <td>0</td>\n      <td>N</td>\n      <td>5000</td>\n      <td>0</td>\n    </tr>\n    <tr>\n      <th>3</th>\n      <td>10553066</td>\n      <td>SOUTHSIDE ATHLETIC ASSOCIATION</td>\n      <td>T3</td>\n      <td>CompanySponsored</td>\n      <td>C2000</td>\n      <td>Preservation</td>\n      <td>Trust</td>\n      <td>1</td>\n      <td>10000-24999</td>\n      <td>N</td>\n      <td>6692</td>\n      <td>1</td>\n    </tr>\n    <tr>\n      <th>4</th>\n      <td>10556103</td>\n      <td>GENETIC RESEARCH INSTITUTE OF THE DESERT</td>\n      <td>T3</td>\n      <td>Independent</td>\n      <td>C1000</td>\n      <td>Heathcare</td>\n      <td>Trust</td>\n      <td>1</td>\n      <td>100000-499999</td>\n      <td>N</td>\n      <td>142590</td>\n      <td>1</td>\n    </tr>\n  </tbody>\n</table>\n</div>",
      "text/plain": "        EIN                                      NAME APPLICATION_TYPE  \\\n0  10520599              BLUE KNIGHTS MOTORCYCLE CLUB              T10   \n1  10531628    AMERICAN CHESAPEAKE CLUB CHARITABLE TR               T3   \n2  10547893        ST CLOUD PROFESSIONAL FIREFIGHTERS               T5   \n3  10553066            SOUTHSIDE ATHLETIC ASSOCIATION               T3   \n4  10556103  GENETIC RESEARCH INSTITUTE OF THE DESERT               T3   \n\n        AFFILIATION CLASSIFICATION      USE_CASE  ORGANIZATION  STATUS  \\\n0       Independent          C1000    ProductDev   Association       1   \n1       Independent          C2000  Preservation  Co-operative       1   \n2  CompanySponsored          C3000    ProductDev   Association       1   \n3  CompanySponsored          C2000  Preservation         Trust       1   \n4       Independent          C1000     Heathcare         Trust       1   \n\n      INCOME_AMT SPECIAL_CONSIDERATIONS  ASK_AMT  IS_SUCCESSFUL  \n0              0                      N     5000              1  \n1         1-9999                      N   108590              1  \n2              0                      N     5000              0  \n3    10000-24999                      N     6692              1  \n4  100000-499999                      N   142590              1  "
     },
     "execution_count": 2,
     "metadata": {},
     "output_type": "execute_result"
    }
   ],
   "source": [
    "# Import our dependencies\n",
    "from sklearn.model_selection import train_test_split\n",
    "from sklearn.preprocessing import StandardScaler\n",
    "import pandas as pd\n",
    "import tensorflow as tf\n",
    "\n",
    "#  Import and read the charity_data.csv.\n",
    "import pandas as pd \n",
    "application_df = pd.read_csv(\"/Users/melissa/Downloads/Deep Learning Hw/Resources /charity_data.csv\")\n",
    "application_df.head()"
   ]
  },
  {
   "cell_type": "code",
   "execution_count": 3,
   "metadata": {},
   "outputs": [],
   "source": [
    "# Drop the non-beneficial ID columns, 'EIN' and 'NAME'.\n",
    "application_df = application_df.drop(['EIN', 'NAME', 'STATUS'], axis=1)\n"
   ]
  },
  {
   "cell_type": "code",
   "execution_count": 4,
   "metadata": {},
   "outputs": [
    {
     "name": "stdout",
     "output_type": "stream",
     "text": [
      "APPLICATION_TYPE            17\n",
      "AFFILIATION                  6\n",
      "CLASSIFICATION              71\n",
      "USE_CASE                     5\n",
      "ORGANIZATION                 4\n",
      "INCOME_AMT                   9\n",
      "SPECIAL_CONSIDERATIONS       2\n",
      "ASK_AMT                   8747\n",
      "IS_SUCCESSFUL                2\n",
      "dtype: int64\n"
     ]
    }
   ],
   "source": [
    "# Determine the number of unique values in each column.\n",
    "print(application_df.nunique())\n"
   ]
  },
  {
   "cell_type": "code",
   "execution_count": 5,
   "metadata": {},
   "outputs": [
    {
     "data": {
      "text/plain": "T3     27037\nT4      1542\nT6      1216\nT5      1173\nT19     1065\nT8       737\nT7       725\nT10      528\nT9       156\nT13       66\nT12       27\nT2        16\nT25        3\nT14        3\nT29        2\nT15        2\nT17        1\nName: APPLICATION_TYPE, dtype: int64"
     },
     "execution_count": 5,
     "metadata": {},
     "output_type": "execute_result"
    }
   ],
   "source": [
    "# Look at APPLICATION_TYPE value counts for binning\n",
    "app_vc = application_df['APPLICATION_TYPE'].value_counts()\n",
    "app_vc"
   ]
  },
  {
   "cell_type": "code",
   "execution_count": 6,
   "metadata": {},
   "outputs": [
    {
     "data": {
      "text/plain": "T3       27037\nT4        1542\nT6        1216\nT5        1173\nT19       1065\nT8         737\nT7         725\nT10        528\nT9         156\nT13         66\nOther       54\nName: APPLICATION_TYPE, dtype: int64"
     },
     "execution_count": 6,
     "metadata": {},
     "output_type": "execute_result"
    }
   ],
   "source": [
    "# Choose a cutoff value and create a list of application types to be replaced\n",
    "# use the variable name `application_types_to_replace`\n",
    "application_types_to_replace = app_vc[app_vc < 50].index\n",
    "\n",
    "# Replace in dataframe\n",
    "for app in application_types_to_replace:\n",
    "    application_df['APPLICATION_TYPE'] = application_df['APPLICATION_TYPE'].replace(app,\"Other\")\n",
    "\n",
    "# Check to make sure binning was successful\n",
    "application_df['APPLICATION_TYPE'].value_counts()"
   ]
  },
  {
   "cell_type": "code",
   "execution_count": 7,
   "metadata": {},
   "outputs": [
    {
     "data": {
      "text/plain": "C1000    17326\nC2000     6074\nC1200     4837\nC3000     1918\nC2100     1883\n         ...  \nC1820        1\nC3700        1\nC2500        1\nC1283        1\nC2190        1\nName: CLASSIFICATION, Length: 71, dtype: int64"
     },
     "execution_count": 7,
     "metadata": {},
     "output_type": "execute_result"
    }
   ],
   "source": [
    "# Look at CLASSIFICATION value counts for binning\n",
    "class_vc = application_df['CLASSIFICATION'].value_counts()\n",
    "class_vc"
   ]
  },
  {
   "cell_type": "code",
   "execution_count": 8,
   "metadata": {},
   "outputs": [
    {
     "data": {
      "text/plain": "C1000    17326\nC2000     6074\nC1200     4837\nC3000     1918\nC2100     1883\nC7000      777\nC1700      287\nC4000      194\nC5000      116\nC1270      114\nC2700      104\nC2800       95\nC7100       75\nC1300       58\nC1280       50\nC1230       36\nC1400       34\nC7200       32\nC2300       32\nC1240       30\nC8000       20\nC7120       18\nC1500       16\nC1800       15\nC6000       15\nC1250       14\nC8200       11\nC1238       10\nC1278       10\nC1235        9\nC1237        9\nC7210        7\nC4100        6\nC2400        6\nC1720        6\nC1600        5\nC1257        5\nC1260        3\nC0           3\nC2710        3\nC1246        2\nC1256        2\nC1267        2\nC1234        2\nC3200        2\nName: CLASSIFICATION, dtype: int64"
     },
     "execution_count": 8,
     "metadata": {},
     "output_type": "execute_result"
    }
   ],
   "source": [
    "# You may find it helpful to look at CLASSIFICATION value counts >1\n",
    "class_vc_1 = class_vc[class_vc > 1]\n",
    "class_vc_1"
   ]
  },
  {
   "cell_type": "code",
   "execution_count": 9,
   "metadata": {},
   "outputs": [
    {
     "data": {
      "text/plain": "C1000    17326\nC2000     6074\nC1200     4837\nC3000     1918\nC2100     1883\nOther     1484\nC7000      777\nName: CLASSIFICATION, dtype: int64"
     },
     "execution_count": 9,
     "metadata": {},
     "output_type": "execute_result"
    }
   ],
   "source": [
    "# Choose a cutoff value and create a list of classifications to be replaced\n",
    "# use the variable name `classifications_to_replace`\n",
    "classifications_to_replace = class_vc[class_vc < 500].index\n",
    "\n",
    "# Replace in dataframe\n",
    "for cls in classifications_to_replace:\n",
    "    application_df['CLASSIFICATION'] = application_df['CLASSIFICATION'].replace(cls,\"Other\")\n",
    "    \n",
    "# Check to make sure binning was successful\n",
    "application_df['CLASSIFICATION'].value_counts()"
   ]
  },
  {
   "cell_type": "code",
   "execution_count": 10,
   "metadata": {},
   "outputs": [
    {
     "name": "stdout",
     "output_type": "stream",
     "text": [
      "Index(['ASK_AMT', 'IS_SUCCESSFUL', 'APPLICATION_TYPE_Other',\n",
      "       'APPLICATION_TYPE_T10', 'APPLICATION_TYPE_T13', 'APPLICATION_TYPE_T19',\n",
      "       'APPLICATION_TYPE_T3', 'APPLICATION_TYPE_T4', 'APPLICATION_TYPE_T5',\n",
      "       'APPLICATION_TYPE_T6', 'APPLICATION_TYPE_T7', 'APPLICATION_TYPE_T8',\n",
      "       'APPLICATION_TYPE_T9', 'AFFILIATION_CompanySponsored',\n",
      "       'AFFILIATION_Family/Parent', 'AFFILIATION_Independent',\n",
      "       'AFFILIATION_National', 'AFFILIATION_Other', 'AFFILIATION_Regional',\n",
      "       'CLASSIFICATION_C1000', 'CLASSIFICATION_C1200', 'CLASSIFICATION_C2000',\n",
      "       'CLASSIFICATION_C2100', 'CLASSIFICATION_C3000', 'CLASSIFICATION_C7000',\n",
      "       'CLASSIFICATION_Other', 'USE_CASE_CommunityServ', 'USE_CASE_Heathcare',\n",
      "       'USE_CASE_Other', 'USE_CASE_Preservation', 'USE_CASE_ProductDev',\n",
      "       'ORGANIZATION_Association', 'ORGANIZATION_Co-operative',\n",
      "       'ORGANIZATION_Corporation', 'ORGANIZATION_Trust', 'INCOME_AMT_0',\n",
      "       'INCOME_AMT_1-9999', 'INCOME_AMT_10000-24999',\n",
      "       'INCOME_AMT_100000-499999', 'INCOME_AMT_10M-50M', 'INCOME_AMT_1M-5M',\n",
      "       'INCOME_AMT_25000-99999', 'INCOME_AMT_50M+', 'INCOME_AMT_5M-10M',\n",
      "       'SPECIAL_CONSIDERATIONS_N', 'SPECIAL_CONSIDERATIONS_Y'],\n",
      "      dtype='object')\n"
     ]
    }
   ],
   "source": [
    "# Convert categorical data to numeric with `pd.get_dummies`\n",
    "df = pd.get_dummies(application_df)\n",
    "print(df.columns)"
   ]
  },
  {
   "cell_type": "code",
   "execution_count": 11,
   "metadata": {},
   "outputs": [],
   "source": [
    "# Split our preprocessed data into our features and target arrays\n",
    "y = df[\"IS_SUCCESSFUL\"].values\n",
    "X = df.drop(columns=['IS_SUCCESSFUL']).values\n",
    "\n",
    "# Split the preprocessed data into a training and testing dataset\n",
    "X_train, X_test, y_train, y_test = train_test_split(X, y, random_state=42, stratify=y)\n"
   ]
  },
  {
   "cell_type": "code",
   "execution_count": 12,
   "metadata": {},
   "outputs": [],
   "source": [
    "# Create a StandardScaler instances\n",
    "scaler = StandardScaler()\n",
    "\n",
    "# Fit the StandardScaler\n",
    "X_scaler = scaler.fit(X_train)\n",
    "\n",
    "# Scale the data\n",
    "X_train_scaled = X_scaler.transform(X_train)\n",
    "X_test_scaled = X_scaler.transform(X_test)"
   ]
  },
  {
   "cell_type": "markdown",
   "metadata": {},
   "source": [
    "## Compile, Train and Evaluate the Model"
   ]
  },
  {
   "cell_type": "code",
   "execution_count": 13,
   "metadata": {},
   "outputs": [
    {
     "name": "stdout",
     "output_type": "stream",
     "text": [
      "Model: \"sequential\"\n",
      "_________________________________________________________________\n",
      "Layer (type)                 Output Shape              Param #   \n",
      "=================================================================\n",
      "dense (Dense)                (None, 100)               4600      \n",
      "_________________________________________________________________\n",
      "dense_1 (Dense)              (None, 40)                4040      \n",
      "_________________________________________________________________\n",
      "dense_2 (Dense)              (None, 40)                1640      \n",
      "_________________________________________________________________\n",
      "dense_3 (Dense)              (None, 1)                 41        \n",
      "=================================================================\n",
      "Total params: 10,321\n",
      "Trainable params: 10,321\n",
      "Non-trainable params: 0\n",
      "_________________________________________________________________\n"
     ]
    }
   ],
   "source": [
    "# Define the model - deep neural net, i.e., the number of input features and hidden nodes for each layer.\n",
    "number_input_features = len(X_train[0])\n",
    "hidden_nodes_layer1 =  100\n",
    "hidden_nodes_layer2 = 70\n",
    "hidden_nodes_layer2 = 40\n",
    "\n",
    "nn = tf.keras.models.Sequential()\n",
    "\n",
    "# First hidden layer\n",
    "nn.add(\n",
    "    tf.keras.layers.Dense(units=hidden_nodes_layer1, input_dim=number_input_features, activation=\"relu\")\n",
    ")\n",
    "# Second hidden layer\n",
    "nn.add(tf.keras.layers.Dense(units=hidden_nodes_layer2, activation=\"relu\"))\n",
    "\n",
    "# third layer\n",
    "nn.add(tf.keras.layers.Dense(units=hidden_nodes_layer2, activation=\"softplus\"))\n",
    "\n",
    "# output layer\n",
    "nn.add(tf.keras.layers.Dense(units=1, activation=\"tanh\"))\n",
    "\n",
    "# Check the structure of the model\n",
    "nn.summary()"
   ]
  },
  {
   "cell_type": "code",
   "execution_count": 14,
   "metadata": {},
   "outputs": [],
   "source": [
    "# Compile the model\n",
    "nn.compile(loss=\"binary_crossentropy\", optimizer=\"adam\", metrics=[\"accuracy\"])\n"
   ]
  },
  {
   "cell_type": "code",
   "execution_count": 15,
   "metadata": {},
   "outputs": [
    {
     "name": "stdout",
     "output_type": "stream",
     "text": [
      "Train on 25724 samples\n",
      "Epoch 1/40\n",
      "25724/25724 [==============================] - 3s 135us/sample - loss: 8.2126 - accuracy: 0.4676\n",
      "Epoch 2/40\n",
      "25724/25724 [==============================] - 3s 102us/sample - loss: 8.2126 - accuracy: 0.4676\n",
      "Epoch 3/40\n",
      "25724/25724 [==============================] - 3s 102us/sample - loss: 8.2126 - accuracy: 0.4676\n",
      "Epoch 4/40\n",
      "25724/25724 [==============================] - 3s 108us/sample - loss: 8.2126 - accuracy: 0.4676\n",
      "Epoch 5/40\n",
      "25724/25724 [==============================] - 3s 105us/sample - loss: 8.2126 - accuracy: 0.4676\n",
      "Epoch 6/40\n",
      "25724/25724 [==============================] - 3s 104us/sample - loss: 8.2126 - accuracy: 0.4676\n",
      "Epoch 7/40\n",
      "25724/25724 [==============================] - 3s 102us/sample - loss: 8.2126 - accuracy: 0.4676\n",
      "Epoch 8/40\n",
      "25724/25724 [==============================] - 3s 103us/sample - loss: 8.2126 - accuracy: 0.4676\n",
      "Epoch 9/40\n",
      "25724/25724 [==============================] - 3s 103us/sample - loss: 8.2126 - accuracy: 0.4676\n",
      "Epoch 10/40\n",
      "25724/25724 [==============================] - 3s 103us/sample - loss: 8.2126 - accuracy: 0.4676\n",
      "Epoch 11/40\n",
      "25724/25724 [==============================] - 3s 103us/sample - loss: 8.2126 - accuracy: 0.4676\n",
      "Epoch 12/40\n",
      "25724/25724 [==============================] - 3s 104us/sample - loss: 8.2126 - accuracy: 0.4676\n",
      "Epoch 13/40\n",
      "25724/25724 [==============================] - 3s 103us/sample - loss: 8.2126 - accuracy: 0.4676\n",
      "Epoch 14/40\n",
      "25724/25724 [==============================] - 3s 102us/sample - loss: 8.2126 - accuracy: 0.4676\n",
      "Epoch 15/40\n",
      "25724/25724 [==============================] - 3s 104us/sample - loss: 8.2126 - accuracy: 0.4676\n",
      "Epoch 16/40\n",
      "25724/25724 [==============================] - 3s 103us/sample - loss: 8.2126 - accuracy: 0.4676\n",
      "Epoch 17/40\n",
      "25724/25724 [==============================] - 3s 103us/sample - loss: 8.2126 - accuracy: 0.4676\n",
      "Epoch 18/40\n",
      "25724/25724 [==============================] - 3s 103us/sample - loss: 8.2126 - accuracy: 0.4676\n",
      "Epoch 19/40\n",
      "25724/25724 [==============================] - 3s 102us/sample - loss: 8.2126 - accuracy: 0.4676\n",
      "Epoch 20/40\n",
      "25724/25724 [==============================] - 3s 111us/sample - loss: 8.2126 - accuracy: 0.4676\n",
      "Epoch 21/40\n",
      "25724/25724 [==============================] - 3s 117us/sample - loss: 8.2126 - accuracy: 0.4676\n",
      "Epoch 22/40\n",
      "25724/25724 [==============================] - 3s 110us/sample - loss: 8.2126 - accuracy: 0.4676\n",
      "Epoch 23/40\n",
      "25724/25724 [==============================] - 3s 101us/sample - loss: 8.2126 - accuracy: 0.4676\n",
      "Epoch 24/40\n",
      "25724/25724 [==============================] - 3s 101us/sample - loss: 8.2126 - accuracy: 0.4676\n",
      "Epoch 25/40\n",
      "25724/25724 [==============================] - 3s 102us/sample - loss: 8.2126 - accuracy: 0.4676\n",
      "Epoch 26/40\n",
      "25724/25724 [==============================] - 3s 103us/sample - loss: 8.2126 - accuracy: 0.4676\n",
      "Epoch 27/40\n",
      "25724/25724 [==============================] - 3s 102us/sample - loss: 8.2126 - accuracy: 0.4676\n",
      "Epoch 28/40\n",
      "25724/25724 [==============================] - 3s 102us/sample - loss: 8.2126 - accuracy: 0.4676\n",
      "Epoch 29/40\n",
      "25724/25724 [==============================] - 3s 102us/sample - loss: 8.2126 - accuracy: 0.4676\n",
      "Epoch 30/40\n",
      "25724/25724 [==============================] - 3s 101us/sample - loss: 8.2126 - accuracy: 0.4676\n",
      "Epoch 31/40\n",
      "25724/25724 [==============================] - 3s 103us/sample - loss: 8.2126 - accuracy: 0.4676\n",
      "Epoch 32/40\n",
      "25724/25724 [==============================] - 3s 105us/sample - loss: 8.2126 - accuracy: 0.4676\n",
      "Epoch 33/40\n",
      "25724/25724 [==============================] - 3s 104us/sample - loss: 8.2126 - accuracy: 0.4676\n",
      "Epoch 34/40\n",
      "25724/25724 [==============================] - 3s 102us/sample - loss: 8.2126 - accuracy: 0.4676\n",
      "Epoch 35/40\n",
      "25724/25724 [==============================] - 3s 101us/sample - loss: 8.2126 - accuracy: 0.4676\n",
      "Epoch 36/40\n",
      "25724/25724 [==============================] - 3s 102us/sample - loss: 8.2126 - accuracy: 0.4676\n",
      "Epoch 37/40\n",
      "25724/25724 [==============================] - 3s 102us/sample - loss: 8.2126 - accuracy: 0.4676\n",
      "Epoch 38/40\n",
      "25724/25724 [==============================] - 3s 102us/sample - loss: 8.2126 - accuracy: 0.4676\n",
      "Epoch 39/40\n",
      "25724/25724 [==============================] - 3s 108us/sample - loss: 8.2126 - accuracy: 0.4676\n",
      "Epoch 40/40\n",
      "25724/25724 [==============================] - 3s 106us/sample - loss: 8.2126 - accuracy: 0.4676\n"
     ]
    }
   ],
   "source": [
    "# Train the model\n",
    "fit_model = nn.fit(X_train_scaled,y_train,epochs=40)\n"
   ]
  },
  {
   "cell_type": "code",
   "execution_count": 16,
   "metadata": {},
   "outputs": [
    {
     "name": "stdout",
     "output_type": "stream",
     "text": [
      "8575/1 - 1s - loss: 8.8328 - accuracy: 0.4676\n",
      "Loss: 8.211648968176661, Accuracy: 0.4676384925842285\n"
     ]
    }
   ],
   "source": [
    "# Evaluate the model using the test data\n",
    "model_loss, model_accuracy = nn.evaluate(X_test_scaled,y_test,verbose=2)\n",
    "print(f\"Loss: {model_loss}, Accuracy: {model_accuracy}\")"
   ]
  },
  {
   "cell_type": "code",
   "execution_count": 17,
   "metadata": {},
   "outputs": [],
   "source": [
    "# Export our model to HDF5 file\n",
    "nn.save('AlphabetSoupCharity_Optimization.h5')"
   ]
  }
 ],
 "metadata": {
  "kernelspec": {
   "display_name": "Python 3.6.10 64-bit ('PythonData': conda)",
   "name": "python3610jvsc74a57bd05e88ae0d8b4ee161d9389281caa7937fbc45e035e0c0b705f449214ecaa902c3"
  },
  "language_info": {
   "codemirror_mode": {
    "name": "ipython",
    "version": 3
   },
   "file_extension": ".py",
   "mimetype": "text/x-python",
   "name": "python",
   "nbconvert_exporter": "python",
   "pygments_lexer": "ipython3",
   "version": "3.6.10"
  },
  "metadata": {
   "interpreter": {
    "hash": "5e88ae0d8b4ee161d9389281caa7937fbc45e035e0c0b705f449214ecaa902c3"
   }
  }
 },
 "nbformat": 4,
 "nbformat_minor": 4
}